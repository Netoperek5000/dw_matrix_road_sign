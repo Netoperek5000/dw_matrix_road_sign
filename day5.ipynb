{
  "nbformat": 4,
  "nbformat_minor": 0,
  "metadata": {
    "colab": {
      "name": "day5.ipynb",
      "provenance": [],
      "collapsed_sections": [],
      "mount_file_id": "1ohbAHofqNNATvlzb1dMkMkhW-0JTlGuk",
      "authorship_tag": "ABX9TyPhcPDTVZhoS6pDHPKk9Efi",
      "include_colab_link": true
    },
    "kernelspec": {
      "name": "python3",
      "display_name": "Python 3"
    },
    "accelerator": "GPU"
  },
  "cells": [
    {
      "cell_type": "markdown",
      "metadata": {
        "id": "view-in-github",
        "colab_type": "text"
      },
      "source": [
        "<a href=\"https://colab.research.google.com/github/Netoperek5000/dw_matrix_road_sign/blob/master/day5.ipynb\" target=\"_parent\"><img src=\"https://colab.research.google.com/assets/colab-badge.svg\" alt=\"Open In Colab\"/></a>"
      ]
    },
    {
      "cell_type": "code",
      "metadata": {
        "id": "f0DmaNI7DxKN",
        "colab_type": "code",
        "colab": {
          "base_uri": "https://localhost:8080/",
          "height": 176
        },
        "outputId": "1a772249-ba90-4b75-c0dd-14aaf63cbd95"
      },
      "source": [
        "!pip install hyperopt"
      ],
      "execution_count": 1,
      "outputs": [
        {
          "output_type": "stream",
          "text": [
            "Requirement already satisfied: hyperopt in /usr/local/lib/python3.6/dist-packages (0.1.2)\n",
            "Requirement already satisfied: numpy in /usr/local/lib/python3.6/dist-packages (from hyperopt) (1.18.2)\n",
            "Requirement already satisfied: scipy in /usr/local/lib/python3.6/dist-packages (from hyperopt) (1.4.1)\n",
            "Requirement already satisfied: pymongo in /usr/local/lib/python3.6/dist-packages (from hyperopt) (3.10.1)\n",
            "Requirement already satisfied: six in /usr/local/lib/python3.6/dist-packages (from hyperopt) (1.12.0)\n",
            "Requirement already satisfied: future in /usr/local/lib/python3.6/dist-packages (from hyperopt) (0.16.0)\n",
            "Requirement already satisfied: networkx in /usr/local/lib/python3.6/dist-packages (from hyperopt) (2.4)\n",
            "Requirement already satisfied: tqdm in /usr/local/lib/python3.6/dist-packages (from hyperopt) (4.38.0)\n",
            "Requirement already satisfied: decorator>=4.3.0 in /usr/local/lib/python3.6/dist-packages (from networkx->hyperopt) (4.4.2)\n"
          ],
          "name": "stdout"
        }
      ]
    },
    {
      "cell_type": "code",
      "metadata": {
        "id": "lqLfLQYeEWK1",
        "colab_type": "code",
        "colab": {
          "base_uri": "https://localhost:8080/",
          "height": 52
        },
        "outputId": "b4958e12-fea1-4fcc-da2d-0e111578f923"
      },
      "source": [
        "import pandas as pd\n",
        "import numpy as np\n",
        "\n",
        "import os\n",
        "import datetime\n",
        "\n",
        "import tensorflow as tf\n",
        "from tensorflow.keras.models import  Sequential\n",
        "from tensorflow.keras.layers import Conv2D, MaxPool2D, Dense, Flatten, Dropout \n",
        "from tensorflow.keras.utils import to_categorical\n",
        "\n",
        "%load_ext tensorboard\n",
        "\n",
        "import matplotlib.pyplot as plt\n",
        "from skimage import color, exposure\n",
        "\n",
        "from sklearn.metrics import accuracy_score\n",
        "\n",
        "from hyperopt import hp, STATUS_OK, tpe, Trials, fmin"
      ],
      "execution_count": 13,
      "outputs": [
        {
          "output_type": "stream",
          "text": [
            "The tensorboard extension is already loaded. To reload it, use:\n",
            "  %reload_ext tensorboard\n"
          ],
          "name": "stdout"
        }
      ]
    },
    {
      "cell_type": "code",
      "metadata": {
        "id": "3hdD-GaUEj27",
        "colab_type": "code",
        "colab": {
          "base_uri": "https://localhost:8080/",
          "height": 34
        },
        "outputId": "1c9179f7-6880-4b40-9327-dafdf5bd60ec"
      },
      "source": [
        "cd '/content/drive/My Drive/Colab Notebooks/matrix/matrix_three/dw_matrix_road_sign'"
      ],
      "execution_count": 3,
      "outputs": [
        {
          "output_type": "stream",
          "text": [
            "/content/drive/My Drive/Colab Notebooks/matrix/matrix_three/dw_matrix_road_sign\n"
          ],
          "name": "stdout"
        }
      ]
    },
    {
      "cell_type": "code",
      "metadata": {
        "id": "EsAEPNGrEoYb",
        "colab_type": "code",
        "colab": {}
      },
      "source": [
        "train = pd.read_pickle('data/train.p')\n",
        "test = pd.read_pickle('data/test.p')\n",
        "\n",
        "X_train, y_train = train['features'], train['labels']\n",
        "X_test, y_test = test['features'], test['labels']"
      ],
      "execution_count": 0,
      "outputs": []
    },
    {
      "cell_type": "code",
      "metadata": {
        "id": "FVmHwfd6EwUi",
        "colab_type": "code",
        "colab": {}
      },
      "source": [
        "if y_train.ndim == 1: y_train = to_categorical(y_train)\n",
        "if y_test.ndim == 1: y_test = to_categorical(y_test)\n",
        "\n",
        "input_shape = X_train.shape[1:]\n",
        "num_classes = y_train.shape[1]"
      ],
      "execution_count": 0,
      "outputs": []
    },
    {
      "cell_type": "code",
      "metadata": {
        "id": "pWMtBnfvE-l4",
        "colab_type": "code",
        "colab": {}
      },
      "source": [
        "def train_model(model, X_train, y_train, params_fit={}):\n",
        "  model.compile(loss='categorical_crossentropy', optimizer='Adam', metrics=['accuracy'])\n",
        "\n",
        "  logdir = os.path.join('logs', datetime.datetime.now().strftime(\"%Y%m%d-%H%M%S\"))\n",
        "  tensorboard_callback = tf.keras.callbacks.TensorBoard(logdir, histogram_freq=1)\n",
        "\n",
        "  model.fit(\n",
        "      X_train, \n",
        "      y_train,\n",
        "      batch_size=params_fit.get('batch_size', 128),\n",
        "      epochs=params_fit.get('epochs', 5),\n",
        "      verbose=params_fit.get('verbose', 1),\n",
        "      validation_data=params_fit.get('validation_data', (X_train, y_train)),\n",
        "      callbacks = [tensorboard_callback]\n",
        "  )\n",
        "  \n",
        "  return model\n",
        "\n",
        "def predict(model_trained, X_test, y_test, scoring=accuracy_score):\n",
        "\n",
        "  y_test_norm = np.argmax(y_test, axis=1)\n",
        "\n",
        "  y_pred_prob = model_trained.predict(X_test)\n",
        "  y_pred = np.argmax(y_pred_prob, axis=1)\n",
        "\n",
        "  return scoring(y_test_norm, y_pred)"
      ],
      "execution_count": 0,
      "outputs": []
    },
    {
      "cell_type": "code",
      "metadata": {
        "id": "imlIRahaFTwf",
        "colab_type": "code",
        "colab": {}
      },
      "source": [
        "def get_cnn_v5(input_shape, num_classes):\n",
        "  return Sequential([\n",
        "    Conv2D(filters=32, kernel_size=(3, 3), activation='relu', input_shape=input_shape), \n",
        "    Conv2D(filters=32, kernel_size=(3, 3), activation='relu', input_shape=input_shape),\n",
        "    Conv2D(filters=32, kernel_size=(3, 3), activation='relu', padding='same'),\n",
        "    MaxPool2D(),\n",
        "    Dropout(0.3),\n",
        "\n",
        "    Conv2D(filters=64, kernel_size=(3, 3), activation='relu', padding='same'),\n",
        "    Conv2D(filters=64, kernel_size=(3, 3), activation='relu'),\n",
        "    MaxPool2D(), \n",
        "    Dropout(0.3),\n",
        "\n",
        "    Conv2D(filters=64, kernel_size=(3, 3), activation='relu', padding='same'),\n",
        "    Conv2D(filters=64, kernel_size=(3, 3), activation='relu'),\n",
        "    MaxPool2D(), \n",
        "    Dropout(0.3),\n",
        "\n",
        "    Flatten(),  \n",
        "\n",
        "    Dense(1024, activation='relu'), \n",
        "    Dropout(0.3),\n",
        "  \n",
        "    Dense(1024, activation='relu'), \n",
        "    Dropout(0.3),\n",
        "\n",
        "    Dense(num_classes, activation='softmax'),             \n",
        "  ])"
      ],
      "execution_count": 0,
      "outputs": []
    },
    {
      "cell_type": "code",
      "metadata": {
        "id": "RRYL6VzuFghd",
        "colab_type": "code",
        "colab": {
          "base_uri": "https://localhost:8080/",
          "height": 212
        },
        "outputId": "7924252b-7730-4d05-da70-a6ddfdb6db5b"
      },
      "source": [
        "model = get_cnn_v5(input_shape, num_classes)\n",
        "model_trained = train_model(model, X_train, y_train)\n",
        "\n",
        "predict(model_trained, X_test, y_test)"
      ],
      "execution_count": 9,
      "outputs": [
        {
          "output_type": "stream",
          "text": [
            "Epoch 1/5\n",
            "272/272 [==============================] - 7s 25ms/step - loss: 2.6541 - accuracy: 0.2835 - val_loss: 1.3085 - val_accuracy: 0.5765\n",
            "Epoch 2/5\n",
            "272/272 [==============================] - 6s 23ms/step - loss: 1.0466 - accuracy: 0.6627 - val_loss: 0.2985 - val_accuracy: 0.9044\n",
            "Epoch 3/5\n",
            "272/272 [==============================] - 6s 23ms/step - loss: 0.5402 - accuracy: 0.8296 - val_loss: 0.1513 - val_accuracy: 0.9551\n",
            "Epoch 4/5\n",
            "272/272 [==============================] - 6s 23ms/step - loss: 0.3445 - accuracy: 0.8933 - val_loss: 0.0947 - val_accuracy: 0.9739\n",
            "Epoch 5/5\n",
            "272/272 [==============================] - 6s 23ms/step - loss: 0.2603 - accuracy: 0.9213 - val_loss: 0.0465 - val_accuracy: 0.9852\n"
          ],
          "name": "stdout"
        },
        {
          "output_type": "execute_result",
          "data": {
            "text/plain": [
              "0.9616780045351474"
            ]
          },
          "metadata": {
            "tags": []
          },
          "execution_count": 9
        }
      ]
    },
    {
      "cell_type": "code",
      "metadata": {
        "id": "yWy0lT3zIIk7",
        "colab_type": "code",
        "colab": {
          "base_uri": "https://localhost:8080/",
          "height": 52
        },
        "outputId": "db529e3b-292f-47bb-c75d-de0b968ae418"
      },
      "source": [
        "model_trained.evaluate(X_test, y_test)[1]"
      ],
      "execution_count": 10,
      "outputs": [
        {
          "output_type": "stream",
          "text": [
            "138/138 [==============================] - 0s 4ms/step - loss: 0.1247 - accuracy: 0.9617\n"
          ],
          "name": "stdout"
        },
        {
          "output_type": "execute_result",
          "data": {
            "text/plain": [
              "[0.12474961578845978, 0.9616780281066895]"
            ]
          },
          "metadata": {
            "tags": []
          },
          "execution_count": 10
        }
      ]
    },
    {
      "cell_type": "markdown",
      "metadata": {
        "id": "uK58t2msNeQH",
        "colab_type": "text"
      },
      "source": [
        ""
      ]
    },
    {
      "cell_type": "code",
      "metadata": {
        "id": "Se6krMsALZh7",
        "colab_type": "code",
        "colab": {}
      },
      "source": [
        "def get_model(params):\n",
        "  return Sequential([\n",
        "    Conv2D(filters=32, kernel_size=(3, 3), activation='relu', input_shape=input_shape), \n",
        "    Conv2D(filters=32, kernel_size=(3, 3), activation='relu', padding='same'),\n",
        "    MaxPool2D(),\n",
        "    Dropout(params['dropout_cnn_block_one']),\n",
        "\n",
        "    Conv2D(filters=64, kernel_size=(3, 3), activation='relu', padding='same'),\n",
        "    Conv2D(filters=64, kernel_size=(3, 3), activation='relu'),\n",
        "    MaxPool2D(), \n",
        "    Dropout(params['dropout_cnn_block_two']),\n",
        "\n",
        "    Conv2D(filters=128, kernel_size=(3, 3), activation='relu', padding='same'),\n",
        "    Conv2D(filters=128, kernel_size=(3, 3), activation='relu'),\n",
        "    MaxPool2D(), \n",
        "    Dropout(params['dropout_cnn_block_three']),\n",
        "\n",
        "    Flatten(),  \n",
        "\n",
        "    Dense(1024, activation='relu'), \n",
        "    Dropout(params['dropout_dense_block_one']),\n",
        "  \n",
        "    Dense(1024, activation='relu'), \n",
        "    Dropout(params['dropout_dense_block_two']),\n",
        "\n",
        "    Dense(num_classes, activation='softmax'),             \n",
        "  ])"
      ],
      "execution_count": 0,
      "outputs": []
    },
    {
      "cell_type": "code",
      "metadata": {
        "id": "jfU7N_CCG5Tb",
        "colab_type": "code",
        "colab": {}
      },
      "source": [
        "def func_obj(params):\n",
        "  model = get_model(params)\n",
        "  model.compile(loss='categorical_crossentropy', optimizer='Adam', metrics=['accuracy'])\n",
        "\n",
        "  model.fit(\n",
        "      X_train, \n",
        "      y_train,\n",
        "      batch_size=int(params.get('batch_size', 128)),\n",
        "      epochs=5,\n",
        "      verbose=0\n",
        "  )\n",
        "\n",
        "  score = model.evaluate(X_test, y_test, verbose=0)\n",
        "  accuracy = score[1]\n",
        "  print(params, 'accuracy={}'.format(accuracy))\n",
        "  \n",
        "  return {'loss': -accuracy, 'status': STATUS_OK, 'model': model}"
      ],
      "execution_count": 0,
      "outputs": []
    },
    {
      "cell_type": "code",
      "metadata": {
        "id": "xzRup0myJJXe",
        "colab_type": "code",
        "colab": {
          "base_uri": "https://localhost:8080/",
          "height": 1000
        },
        "outputId": "e6ad3505-a6a7-4628-bc91-abe170d47502"
      },
      "source": [
        "space = {\n",
        "    'batch_size': hp.quniform('batch_size', 100, 200, 10),\n",
        "    'dropout_cnn_block_one': hp.uniform('dropout_cnn_block_one', 0.3, 0.5),\n",
        "    'dropout_cnn_block_two': hp.uniform('dropout_cnn_block_two', 0.3, 0.5),\n",
        "    'dropout_cnn_block_three': hp.uniform('dropout_cnn_block_three', 0.3, 0.5),\n",
        "\n",
        "    'dropout_dense_block_one': hp.uniform('dropout_dense_block_one', 0.3, 0.7),\n",
        "    'dropout_dense_block_two': hp.uniform('dropout_dense_block_two', 0.3, 0.7),\n",
        "}\n",
        "\n",
        "best = fmin(\n",
        "    func_obj,\n",
        "    space,\n",
        "    tpe.suggest,\n",
        "    30,\n",
        "    Trials()\n",
        ")"
      ],
      "execution_count": 27,
      "outputs": [
        {
          "output_type": "stream",
          "text": [
            "{'batch_size': 150.0, 'dropout_cnn_block_one': 0.4471543062092206, 'dropout_cnn_block_three': 0.4582027256417376, 'dropout_cnn_block_two': 0.3713947604103903, 'dropout_dense_block_one': 0.30091564772917284, 'dropout_dense_block_two': 0.6067158249750717}\n",
            "accuracy=0.940816342830658\n",
            "{'batch_size': 180.0, 'dropout_cnn_block_one': 0.354286406870632, 'dropout_cnn_block_three': 0.42225514676881554, 'dropout_cnn_block_two': 0.3113679549458579, 'dropout_dense_block_one': 0.39938512217711497, 'dropout_dense_block_two': 0.5438298369512653}\n",
            "accuracy=0.9448979496955872\n",
            "{'batch_size': 130.0, 'dropout_cnn_block_one': 0.45452677694609755, 'dropout_cnn_block_three': 0.4732619684377231, 'dropout_cnn_block_two': 0.49628518579628284, 'dropout_dense_block_one': 0.5542635285195918, 'dropout_dense_block_two': 0.6088909897433579}\n",
            "accuracy=0.8662131428718567\n",
            "{'batch_size': 190.0, 'dropout_cnn_block_one': 0.36355992195252096, 'dropout_cnn_block_three': 0.3583355226795975, 'dropout_cnn_block_two': 0.3049416363068, 'dropout_dense_block_one': 0.6696986879393221, 'dropout_dense_block_two': 0.348747199054582}\n",
            "accuracy=0.9310657382011414\n",
            "{'batch_size': 140.0, 'dropout_cnn_block_one': 0.32228470343486726, 'dropout_cnn_block_three': 0.3332140367633746, 'dropout_cnn_block_two': 0.38098401240978175, 'dropout_dense_block_one': 0.6067574093520244, 'dropout_dense_block_two': 0.5531379012130909}\n",
            "accuracy=0.9628117680549622\n",
            "{'batch_size': 180.0, 'dropout_cnn_block_one': 0.3525942408427934, 'dropout_cnn_block_three': 0.4183610883612566, 'dropout_cnn_block_two': 0.3908294453876148, 'dropout_dense_block_one': 0.5413935867206262, 'dropout_dense_block_two': 0.5067460219486988}\n",
            "accuracy=0.9383220076560974\n",
            "{'batch_size': 180.0, 'dropout_cnn_block_one': 0.34936411773015724, 'dropout_cnn_block_three': 0.3109256065666078, 'dropout_cnn_block_two': 0.4936075332182988, 'dropout_dense_block_one': 0.3852116684255942, 'dropout_dense_block_two': 0.5452542970727422}\n",
            "accuracy=0.94399094581604\n",
            "{'batch_size': 120.0, 'dropout_cnn_block_one': 0.4124272464700585, 'dropout_cnn_block_three': 0.4248384565409534, 'dropout_cnn_block_two': 0.4493703926504825, 'dropout_dense_block_one': 0.3883400861974161, 'dropout_dense_block_two': 0.5089926869946719}\n",
            "accuracy=0.9451247453689575\n",
            "{'batch_size': 120.0, 'dropout_cnn_block_one': 0.33752919746210736, 'dropout_cnn_block_three': 0.32197768286911105, 'dropout_cnn_block_two': 0.4881366420534717, 'dropout_dense_block_one': 0.4195889957986167, 'dropout_dense_block_two': 0.5768971150023563}\n",
            "accuracy=0.9272108674049377\n",
            "{'batch_size': 120.0, 'dropout_cnn_block_one': 0.35492995844781355, 'dropout_cnn_block_three': 0.45429563837671505, 'dropout_cnn_block_two': 0.3852561011099838, 'dropout_dense_block_one': 0.639962430780392, 'dropout_dense_block_two': 0.6123547648569889}\n",
            "accuracy=0.9174603223800659\n",
            "{'batch_size': 130.0, 'dropout_cnn_block_one': 0.4759886928720762, 'dropout_cnn_block_three': 0.3129315053981283, 'dropout_cnn_block_two': 0.46575002419894873, 'dropout_dense_block_one': 0.48749429091858887, 'dropout_dense_block_two': 0.46022995889394097}\n",
            "accuracy=0.8437641859054565\n",
            "{'batch_size': 130.0, 'dropout_cnn_block_one': 0.3460907723905959, 'dropout_cnn_block_three': 0.44384341794884064, 'dropout_cnn_block_two': 0.48721285119500857, 'dropout_dense_block_one': 0.5389151450639842, 'dropout_dense_block_two': 0.4038777329474929}\n",
            "accuracy=0.9274376630783081\n",
            "{'batch_size': 180.0, 'dropout_cnn_block_one': 0.36470003073919477, 'dropout_cnn_block_three': 0.3332490791402672, 'dropout_cnn_block_two': 0.4094227981188696, 'dropout_dense_block_one': 0.3439593089323795, 'dropout_dense_block_two': 0.6914214072568179}\n",
            "accuracy=0.9419501423835754\n",
            "{'batch_size': 110.0, 'dropout_cnn_block_one': 0.45607452095861145, 'dropout_cnn_block_three': 0.37510479908973193, 'dropout_cnn_block_two': 0.4988209177075717, 'dropout_dense_block_one': 0.4685617127550802, 'dropout_dense_block_two': 0.434054969794733}\n",
            "accuracy=0.8507936596870422\n",
            "{'batch_size': 120.0, 'dropout_cnn_block_one': 0.4910214003515842, 'dropout_cnn_block_three': 0.3943726925926038, 'dropout_cnn_block_two': 0.4313536989787711, 'dropout_dense_block_one': 0.3738840216615005, 'dropout_dense_block_two': 0.612536604306697}\n",
            "accuracy=0.9052154421806335\n",
            "{'batch_size': 150.0, 'dropout_cnn_block_one': 0.4578271693571664, 'dropout_cnn_block_three': 0.4825533052891507, 'dropout_cnn_block_two': 0.382819761288172, 'dropout_dense_block_one': 0.3594661316581782, 'dropout_dense_block_two': 0.6683342072914806}\n",
            "accuracy=0.8510203957557678\n",
            "{'batch_size': 140.0, 'dropout_cnn_block_one': 0.49858493797466535, 'dropout_cnn_block_three': 0.4265754190457647, 'dropout_cnn_block_two': 0.3745014995660356, 'dropout_dense_block_one': 0.5648129829035389, 'dropout_dense_block_two': 0.6893518851495861}\n",
            "accuracy=0.920634925365448\n",
            "{'batch_size': 190.0, 'dropout_cnn_block_one': 0.37819373004708534, 'dropout_cnn_block_three': 0.3604000217943679, 'dropout_cnn_block_two': 0.4573980302541627, 'dropout_dense_block_one': 0.5376048031221385, 'dropout_dense_block_two': 0.6269035144006729}\n",
            "accuracy=0.9462584853172302\n",
            "{'batch_size': 130.0, 'dropout_cnn_block_one': 0.4597920512037361, 'dropout_cnn_block_three': 0.35703996745893196, 'dropout_cnn_block_two': 0.32340214712433907, 'dropout_dense_block_one': 0.5146589150766621, 'dropout_dense_block_two': 0.5516357566797494}\n",
            "accuracy=0.9614512324333191\n",
            "{'batch_size': 160.0, 'dropout_cnn_block_one': 0.4613700144915155, 'dropout_cnn_block_three': 0.3824804788045471, 'dropout_cnn_block_two': 0.42357257877541515, 'dropout_dense_block_one': 0.5303887673764729, 'dropout_dense_block_two': 0.6527734678674498}\n",
            "accuracy=0.8786848187446594\n",
            "{'batch_size': 160.0, 'dropout_cnn_block_one': 0.3024213428978304, 'dropout_cnn_block_three': 0.3424979657803691, 'dropout_cnn_block_two': 0.342102034799898, 'dropout_dense_block_one': 0.6235878651018474, 'dropout_dense_block_two': 0.4671514577318491}\n",
            "accuracy=0.9757369756698608\n",
            "{'batch_size': 160.0, 'dropout_cnn_block_one': 0.3011842883832838, 'dropout_cnn_block_three': 0.3375652032494646, 'dropout_cnn_block_two': 0.34519314218259944, 'dropout_dense_block_one': 0.6095023010619961, 'dropout_dense_block_two': 0.35681275042550586}\n",
            "accuracy=0.9621315002441406\n",
            "{'batch_size': 160.0, 'dropout_cnn_block_one': 0.3107927228104021, 'dropout_cnn_block_three': 0.3446785742631947, 'dropout_cnn_block_two': 0.3555090288615785, 'dropout_dense_block_one': 0.6982208410034316, 'dropout_dense_block_two': 0.47288956848876124}\n",
            "accuracy=0.9560090899467468\n",
            "{'batch_size': 170.0, 'dropout_cnn_block_one': 0.32159748076231576, 'dropout_cnn_block_three': 0.3011594832792225, 'dropout_cnn_block_two': 0.34094042371786437, 'dropout_dense_block_one': 0.6075515366368914, 'dropout_dense_block_two': 0.39634562884925395}\n",
            "accuracy=0.9455782175064087\n",
            "{'batch_size': 140.0, 'dropout_cnn_block_one': 0.4016170550393595, 'dropout_cnn_block_three': 0.3257938400241956, 'dropout_cnn_block_two': 0.32811335245022444, 'dropout_dense_block_one': 0.5902559770641316, 'dropout_dense_block_two': 0.47782342005106504}\n",
            "accuracy=0.9517006874084473\n",
            "{'batch_size': 100.0, 'dropout_cnn_block_one': 0.3174747036142236, 'dropout_cnn_block_three': 0.3034777039001187, 'dropout_cnn_block_two': 0.35645677789716224, 'dropout_dense_block_one': 0.6961240256022261, 'dropout_dense_block_two': 0.3088777367424034}\n",
            "accuracy=0.9464852809906006\n",
            "{'batch_size': 140.0, 'dropout_cnn_block_one': 0.3282254635198665, 'dropout_cnn_block_three': 0.37407323788666963, 'dropout_cnn_block_two': 0.4024982370733979, 'dropout_dense_block_one': 0.6531280510184577, 'dropout_dense_block_two': 0.5208797256309569}\n",
            "accuracy=0.9371882081031799\n",
            "{'batch_size': 170.0, 'dropout_cnn_block_one': 0.3031803752093413, 'dropout_cnn_block_three': 0.4030952492260911, 'dropout_cnn_block_two': 0.3607279640306475, 'dropout_dense_block_one': 0.4506829169523486, 'dropout_dense_block_two': 0.4491420774974805}\n",
            "accuracy=0.9650793671607971\n",
            "{'batch_size': 200.0, 'dropout_cnn_block_one': 0.43016183248086676, 'dropout_cnn_block_three': 0.4040060680784486, 'dropout_cnn_block_two': 0.35796910396315834, 'dropout_dense_block_one': 0.45178337490165915, 'dropout_dense_block_two': 0.4372005336312351}\n",
            "accuracy=0.9476190209388733\n",
            "{'batch_size': 170.0, 'dropout_cnn_block_one': 0.30458935439059825, 'dropout_cnn_block_three': 0.404074899630241, 'dropout_cnn_block_two': 0.3249407722994414, 'dropout_dense_block_one': 0.3131624438780991, 'dropout_dense_block_two': 0.39020836025556416}\n",
            "accuracy=0.961904764175415\n",
            "100%|██████████| 30/30 [10:25<00:00, 20.86s/it, best loss: -0.9757369756698608]\n"
          ],
          "name": "stdout"
        }
      ]
    },
    {
      "cell_type": "code",
      "metadata": {
        "id": "WT7sJ9S6K02F",
        "colab_type": "code",
        "colab": {}
      },
      "source": [
        ""
      ],
      "execution_count": 0,
      "outputs": []
    }
  ]
}